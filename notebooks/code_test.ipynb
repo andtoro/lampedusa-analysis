{
 "cells": [
  {
   "cell_type": "markdown",
   "id": "a3b8d83b",
   "metadata": {},
   "source": [
    "# Code for aerosol data comparison between Lampedusa site and FARM simulation. Handling netCDF4 files, cleaning and visualization."
   ]
  },
  {
   "cell_type": "code",
   "execution_count": null,
   "id": "ce8ce3e1",
   "metadata": {},
   "outputs": [],
   "source": []
  }
 ],
 "metadata": {
  "kernelspec": {
   "display_name": "lmp_dust_enea",
   "language": "python",
   "name": "python3"
  },
  "language_info": {
   "codemirror_mode": {
    "name": "ipython",
    "version": 3
   },
   "file_extension": ".py",
   "mimetype": "text/x-python",
   "name": "python",
   "nbconvert_exporter": "python",
   "pygments_lexer": "ipython3",
   "version": "3.11.2"
  }
 },
 "nbformat": 4,
 "nbformat_minor": 5
}
